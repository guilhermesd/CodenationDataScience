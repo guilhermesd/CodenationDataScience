{
 "cells": [
  {
   "cell_type": "markdown",
   "metadata": {},
   "source": [
    "# Desafio 6\n",
    "\n",
    "Neste desafio, vamos praticar _feature engineering_, um dos processos mais importantes e trabalhosos de ML. Utilizaremos o _data set_ [Countries of the world](https://www.kaggle.com/fernandol/countries-of-the-world), que contém dados sobre os 227 países do mundo com informações sobre tamanho da população, área, imigração e setores de produção.\n",
    "\n",
    "> Obs.: Por favor, não modifique o nome das funções de resposta."
   ]
  },
  {
   "cell_type": "markdown",
   "metadata": {},
   "source": [
    "## _Setup_ geral"
   ]
  },
  {
   "cell_type": "code",
   "execution_count": 51,
   "metadata": {},
   "outputs": [],
   "source": [
    "import pandas as pd\n",
    "import numpy as np\n",
    "import collections\n",
    "import seaborn as sns\n",
    "import sklearn as sk\n",
    "from sklearn.datasets import load_digits, fetch_20newsgroups\n",
    "from sklearn.compose import ColumnTransformer\n",
    "from sklearn.impute import SimpleImputer\n",
    "from sklearn.pipeline import Pipeline\n",
    "from sklearn.preprocessing import (\n",
    "    OneHotEncoder, Binarizer, KBinsDiscretizer,\n",
    "    MinMaxScaler, StandardScaler, PolynomialFeatures\n",
    ")\n",
    "from sklearn.feature_extraction.text import (\n",
    "    CountVectorizer, TfidfTransformer, TfidfVectorizer\n",
    ")"
   ]
  },
  {
   "cell_type": "code",
   "execution_count": 52,
   "metadata": {},
   "outputs": [],
   "source": [
    "# Algumas configurações para o matplotlib.\n",
    "#%matplotlib inline\n",
    "\n",
    "#from IPython.core.pylabtools import figsize\n",
    "\n",
    "\n",
    "#figsize(12, 8)\n",
    "\n",
    "#sns.set()"
   ]
  },
  {
   "cell_type": "code",
   "execution_count": 53,
   "metadata": {
    "scrolled": false
   },
   "outputs": [],
   "source": [
    "countries = pd.read_csv(\"countries.csv\")"
   ]
  },
  {
   "cell_type": "code",
   "execution_count": 54,
   "metadata": {},
   "outputs": [
    {
     "data": {
      "text/html": [
       "<div>\n",
       "<style scoped>\n",
       "    .dataframe tbody tr th:only-of-type {\n",
       "        vertical-align: middle;\n",
       "    }\n",
       "\n",
       "    .dataframe tbody tr th {\n",
       "        vertical-align: top;\n",
       "    }\n",
       "\n",
       "    .dataframe thead th {\n",
       "        text-align: right;\n",
       "    }\n",
       "</style>\n",
       "<table border=\"1\" class=\"dataframe\">\n",
       "  <thead>\n",
       "    <tr style=\"text-align: right;\">\n",
       "      <th></th>\n",
       "      <th>Country</th>\n",
       "      <th>Region</th>\n",
       "      <th>Population</th>\n",
       "      <th>Area</th>\n",
       "      <th>Pop_density</th>\n",
       "      <th>Coastline_ratio</th>\n",
       "      <th>Net_migration</th>\n",
       "      <th>Infant_mortality</th>\n",
       "      <th>GDP</th>\n",
       "      <th>Literacy</th>\n",
       "      <th>Phones_per_1000</th>\n",
       "      <th>Arable</th>\n",
       "      <th>Crops</th>\n",
       "      <th>Other</th>\n",
       "      <th>Climate</th>\n",
       "      <th>Birthrate</th>\n",
       "      <th>Deathrate</th>\n",
       "      <th>Agriculture</th>\n",
       "      <th>Industry</th>\n",
       "      <th>Service</th>\n",
       "    </tr>\n",
       "  </thead>\n",
       "  <tbody>\n",
       "    <tr>\n",
       "      <th>0</th>\n",
       "      <td>Afghanistan</td>\n",
       "      <td>ASIA (EX. NEAR EAST)</td>\n",
       "      <td>31056997</td>\n",
       "      <td>647500</td>\n",
       "      <td>48,0</td>\n",
       "      <td>0,00</td>\n",
       "      <td>23,06</td>\n",
       "      <td>163,07</td>\n",
       "      <td>700.0</td>\n",
       "      <td>36,0</td>\n",
       "      <td>3,2</td>\n",
       "      <td>12,13</td>\n",
       "      <td>0,22</td>\n",
       "      <td>87,65</td>\n",
       "      <td>1</td>\n",
       "      <td>46,6</td>\n",
       "      <td>20,34</td>\n",
       "      <td>0,38</td>\n",
       "      <td>0,24</td>\n",
       "      <td>0,38</td>\n",
       "    </tr>\n",
       "  </tbody>\n",
       "</table>\n",
       "</div>"
      ],
      "text/plain": [
       "        Country                         Region  Population    Area  \\\n",
       "0  Afghanistan   ASIA (EX. NEAR EAST)             31056997  647500   \n",
       "\n",
       "  Pop_density Coastline_ratio Net_migration Infant_mortality    GDP Literacy  \\\n",
       "0        48,0            0,00         23,06           163,07  700.0     36,0   \n",
       "\n",
       "  Phones_per_1000 Arable Crops  Other Climate Birthrate Deathrate Agriculture  \\\n",
       "0             3,2  12,13  0,22  87,65       1      46,6     20,34        0,38   \n",
       "\n",
       "  Industry Service  \n",
       "0     0,24    0,38  "
      ]
     },
     "execution_count": 54,
     "metadata": {},
     "output_type": "execute_result"
    }
   ],
   "source": [
    "new_column_names = [\n",
    "    \"Country\", \"Region\", \"Population\", \"Area\", \"Pop_density\", \"Coastline_ratio\",\n",
    "    \"Net_migration\", \"Infant_mortality\", \"GDP\", \"Literacy\", \"Phones_per_1000\",\n",
    "    \"Arable\", \"Crops\", \"Other\", \"Climate\", \"Birthrate\", \"Deathrate\", \"Agriculture\",\n",
    "    \"Industry\", \"Service\"\n",
    "]\n",
    "\n",
    "countries.columns = new_column_names\n",
    "\n",
    "countries.head(1)"
   ]
  },
  {
   "cell_type": "markdown",
   "metadata": {},
   "source": [
    "## Observações\n",
    "\n",
    "Esse _data set_ ainda precisa de alguns ajustes iniciais. Primeiro, note que as variáveis numéricas estão usando vírgula como separador decimal e estão codificadas como strings. Corrija isso antes de continuar: transforme essas variáveis em numéricas adequadamente.\n",
    "\n",
    "Além disso, as variáveis `Country` e `Region` possuem espaços a mais no começo e no final da string. Você pode utilizar o método `str.strip()` para remover esses espaços."
   ]
  },
  {
   "cell_type": "markdown",
   "metadata": {},
   "source": [
    "## Inicia sua análise a partir daqui"
   ]
  },
  {
   "cell_type": "code",
   "execution_count": 55,
   "metadata": {},
   "outputs": [
    {
     "data": {
      "text/plain": [
       "Country              object\n",
       "Region               object\n",
       "Population            int64\n",
       "Area                  int64\n",
       "Pop_density          object\n",
       "Coastline_ratio      object\n",
       "Net_migration        object\n",
       "Infant_mortality     object\n",
       "GDP                 float64\n",
       "Literacy             object\n",
       "Phones_per_1000      object\n",
       "Arable               object\n",
       "Crops                object\n",
       "Other                object\n",
       "Climate              object\n",
       "Birthrate            object\n",
       "Deathrate            object\n",
       "Agriculture          object\n",
       "Industry             object\n",
       "Service              object\n",
       "dtype: object"
      ]
     },
     "execution_count": 55,
     "metadata": {},
     "output_type": "execute_result"
    }
   ],
   "source": [
    "# Sua análise começa aqui.\n",
    "countries.shape\n",
    "countries.dtypes"
   ]
  },
  {
   "cell_type": "code",
   "execution_count": 56,
   "metadata": {},
   "outputs": [
    {
     "data": {
      "text/html": [
       "<div>\n",
       "<style scoped>\n",
       "    .dataframe tbody tr th:only-of-type {\n",
       "        vertical-align: middle;\n",
       "    }\n",
       "\n",
       "    .dataframe tbody tr th {\n",
       "        vertical-align: top;\n",
       "    }\n",
       "\n",
       "    .dataframe thead th {\n",
       "        text-align: right;\n",
       "    }\n",
       "</style>\n",
       "<table border=\"1\" class=\"dataframe\">\n",
       "  <thead>\n",
       "    <tr style=\"text-align: right;\">\n",
       "      <th></th>\n",
       "      <th>Country</th>\n",
       "      <th>Region</th>\n",
       "      <th>Population</th>\n",
       "      <th>Area</th>\n",
       "      <th>Pop_density</th>\n",
       "      <th>Coastline_ratio</th>\n",
       "      <th>Net_migration</th>\n",
       "      <th>Infant_mortality</th>\n",
       "      <th>GDP</th>\n",
       "      <th>Literacy</th>\n",
       "      <th>Phones_per_1000</th>\n",
       "      <th>Arable</th>\n",
       "      <th>Crops</th>\n",
       "      <th>Other</th>\n",
       "      <th>Climate</th>\n",
       "      <th>Birthrate</th>\n",
       "      <th>Deathrate</th>\n",
       "      <th>Agriculture</th>\n",
       "      <th>Industry</th>\n",
       "      <th>Service</th>\n",
       "    </tr>\n",
       "  </thead>\n",
       "  <tbody>\n",
       "    <tr>\n",
       "      <th>0</th>\n",
       "      <td>Afghanistan</td>\n",
       "      <td>ASIA (EX. NEAR EAST)</td>\n",
       "      <td>31056997</td>\n",
       "      <td>647500</td>\n",
       "      <td>48,0</td>\n",
       "      <td>0,00</td>\n",
       "      <td>23,06</td>\n",
       "      <td>163,07</td>\n",
       "      <td>700.0</td>\n",
       "      <td>36,0</td>\n",
       "      <td>3,2</td>\n",
       "      <td>12,13</td>\n",
       "      <td>0,22</td>\n",
       "      <td>87,65</td>\n",
       "      <td>1</td>\n",
       "      <td>46,6</td>\n",
       "      <td>20,34</td>\n",
       "      <td>0,38</td>\n",
       "      <td>0,24</td>\n",
       "      <td>0,38</td>\n",
       "    </tr>\n",
       "  </tbody>\n",
       "</table>\n",
       "</div>"
      ],
      "text/plain": [
       "        Country                         Region  Population    Area  \\\n",
       "0  Afghanistan   ASIA (EX. NEAR EAST)             31056997  647500   \n",
       "\n",
       "  Pop_density Coastline_ratio Net_migration Infant_mortality    GDP Literacy  \\\n",
       "0        48,0            0,00         23,06           163,07  700.0     36,0   \n",
       "\n",
       "  Phones_per_1000 Arable Crops  Other Climate Birthrate Deathrate Agriculture  \\\n",
       "0             3,2  12,13  0,22  87,65       1      46,6     20,34        0,38   \n",
       "\n",
       "  Industry Service  \n",
       "0     0,24    0,38  "
      ]
     },
     "execution_count": 56,
     "metadata": {},
     "output_type": "execute_result"
    }
   ],
   "source": [
    "countries.head(1)"
   ]
  },
  {
   "cell_type": "code",
   "execution_count": 57,
   "metadata": {},
   "outputs": [
    {
     "data": {
      "text/plain": [
       "array(['23,06', '-4,93', '-0,39', '-20,71', '6,6', '0', '10,76', '-6,15',\n",
       "       '0,61', '-6,47', '3,98', '2', '-4,9', '-2,2', '1,05', '-0,71',\n",
       "       '-0,31', '2,54', '1,23', '2,49', '-1,32', '0,31', '-0,03', '10,01',\n",
       "       '3,59', '-4,58', '-1,8', '-0,06', '5,96', '-12,07', '18,75',\n",
       "       '-0,11', '-0,4', '-0,17', nan, '0,51', '-0,07', '1,58', '-1,58',\n",
       "       '0,43', '0,97', '2,48', '-13,87', '-3,22', '-8,58', '-0,22',\n",
       "       '-3,74', '-3,16', '1,41', '-3,14', '0,95', '0,66', '6,27', '2,94',\n",
       "       '1,57', '1,6', '-4,7', '2,18', '-0,64', '2,35', '-8,37', '-13,92',\n",
       "       '-0,15', '-1,67', '3,84', '-3,06', '-1,57', '-2,07', '-3,4',\n",
       "       '-1,99', '5,24', '0,86', '2,38', '-0,84', '4,99', '5,36', '0,68',\n",
       "       '2,07', '-4,92', '2,76', '6,59', '-3,35', '-0,1', '14,18', '-2,45',\n",
       "       '-2,23', '-0,74', '4,85', '8,97', '4,86', '-1,45', '-0,33',\n",
       "       '-6,04', '-0,05', '-0,9', '6,78', '-4,87', '-20,99', '-0,26',\n",
       "       '7,75', '-0,98', '2,91', '-0,41', '4,05', '-1,22', '-0,67', '0,26',\n",
       "       '9,61', '1,74', '0,28', '-2,77', '2,85', '-0,91', '-0,08', '-1,05',\n",
       "       '-1,5', '-0,49', '3,57', '-1,46', '16,29', '-0,13', '1,02',\n",
       "       '-7,11', '-2,67', '-4,86', '-7,64', '-11,7', '10,98', '-2,72',\n",
       "       '-2,71', '0,2', '-1,33', '-5,69', '11,53', '0,3', '1,12', '5,37',\n",
       "       '-0,29', '0,99', '-1,31', '-0,02', '-8,81', '1,67', '-2,86',\n",
       "       '-2,06', '-10,83', '-0,57', '-0,86', '11,68', '1,03', '2,19',\n",
       "       '3,41', '-0,32', '-1,72', '-0,04', '-0,45', '-8,94', '2,98'],\n",
       "      dtype=object)"
      ]
     },
     "execution_count": 57,
     "metadata": {},
     "output_type": "execute_result"
    }
   ],
   "source": [
    "countries.Net_migration.unique()"
   ]
  },
  {
   "cell_type": "code",
   "execution_count": 58,
   "metadata": {},
   "outputs": [],
   "source": [
    "for coluna in ['Pop_density', 'Coastline_ratio', 'Net_migration', 'Infant_mortality', \n",
    "               'Literacy', 'Phones_per_1000', 'Arable', 'Crops', 'Other', 'Climate', \n",
    "               'Birthrate', 'Deathrate', 'Agriculture', 'Industry', 'Service']:\n",
    "    if(isinstance(countries[coluna], object)):\n",
    "        countries[coluna] = countries[coluna].str.replace('.', '')\n",
    "        countries[coluna] = countries[coluna].str.replace(',', '.').astype('float')\n",
    "countries.head(1)\n",
    "\n",
    "countries['Country'] = countries['Country'].str.strip()\n",
    "countries['Region'] = countries['Region'].str.strip()"
   ]
  },
  {
   "cell_type": "code",
   "execution_count": 59,
   "metadata": {},
   "outputs": [
    {
     "data": {
      "text/plain": [
       "array([ 2.306e+01, -4.930e+00, -3.900e-01, -2.071e+01,  6.600e+00,\n",
       "        0.000e+00,  1.076e+01, -6.150e+00,  6.100e-01, -6.470e+00,\n",
       "        3.980e+00,  2.000e+00, -4.900e+00, -2.200e+00,  1.050e+00,\n",
       "       -7.100e-01, -3.100e-01,  2.540e+00,  1.230e+00,  2.490e+00,\n",
       "       -1.320e+00,  3.100e-01, -3.000e-02,  1.001e+01,  3.590e+00,\n",
       "       -4.580e+00, -1.800e+00, -6.000e-02,  5.960e+00, -1.207e+01,\n",
       "        1.875e+01, -1.100e-01, -4.000e-01, -1.700e-01,        nan,\n",
       "        5.100e-01, -7.000e-02,  1.580e+00, -1.580e+00,  4.300e-01,\n",
       "        9.700e-01,  2.480e+00, -1.387e+01, -3.220e+00, -8.580e+00,\n",
       "       -2.200e-01, -3.740e+00, -3.160e+00,  1.410e+00, -3.140e+00,\n",
       "        9.500e-01,  6.600e-01,  6.270e+00,  2.940e+00,  1.570e+00,\n",
       "        1.600e+00, -4.700e+00,  2.180e+00, -6.400e-01,  2.350e+00,\n",
       "       -8.370e+00, -1.392e+01, -1.500e-01, -1.670e+00,  3.840e+00,\n",
       "       -3.060e+00, -1.570e+00, -2.070e+00, -3.400e+00, -1.990e+00,\n",
       "        5.240e+00,  8.600e-01,  2.380e+00, -8.400e-01,  4.990e+00,\n",
       "        5.360e+00,  6.800e-01,  2.070e+00, -4.920e+00,  2.760e+00,\n",
       "        6.590e+00, -3.350e+00, -1.000e-01,  1.418e+01, -2.450e+00,\n",
       "       -2.230e+00, -7.400e-01,  4.850e+00,  8.970e+00,  4.860e+00,\n",
       "       -1.450e+00, -3.300e-01, -6.040e+00, -5.000e-02, -9.000e-01,\n",
       "        6.780e+00, -4.870e+00, -2.099e+01, -2.600e-01,  7.750e+00,\n",
       "       -9.800e-01,  2.910e+00, -4.100e-01,  4.050e+00, -1.220e+00,\n",
       "       -6.700e-01,  2.600e-01,  9.610e+00,  1.740e+00,  2.800e-01,\n",
       "       -2.770e+00,  2.850e+00, -9.100e-01, -8.000e-02, -1.050e+00,\n",
       "       -1.500e+00, -4.900e-01,  3.570e+00, -1.460e+00,  1.629e+01,\n",
       "       -1.300e-01,  1.020e+00, -7.110e+00, -2.670e+00, -4.860e+00,\n",
       "       -7.640e+00, -1.170e+01,  1.098e+01, -2.720e+00, -2.710e+00,\n",
       "        2.000e-01, -1.330e+00, -5.690e+00,  1.153e+01,  3.000e-01,\n",
       "        1.120e+00,  5.370e+00, -2.900e-01,  9.900e-01, -1.310e+00,\n",
       "       -2.000e-02, -8.810e+00,  1.670e+00, -2.860e+00, -2.060e+00,\n",
       "       -1.083e+01, -5.700e-01, -8.600e-01,  1.168e+01,  1.030e+00,\n",
       "        2.190e+00,  3.410e+00, -3.200e-01, -1.720e+00, -4.000e-02,\n",
       "       -4.500e-01, -8.940e+00,  2.980e+00])"
      ]
     },
     "execution_count": 59,
     "metadata": {},
     "output_type": "execute_result"
    }
   ],
   "source": [
    "countries.Net_migration.unique()"
   ]
  },
  {
   "cell_type": "markdown",
   "metadata": {},
   "source": [
    "## Questão 1\n",
    "\n",
    "Quais são as regiões (variável `Region`) presentes no _data set_? Retorne uma lista com as regiões únicas do _data set_ com os espaços à frente e atrás da string removidos (mas mantenha pontuação: ponto, hífen etc) e ordenadas em ordem alfabética."
   ]
  },
  {
   "cell_type": "code",
   "execution_count": 60,
   "metadata": {},
   "outputs": [
    {
     "data": {
      "text/plain": [
       "['ASIA (EX. NEAR EAST)',\n",
       " 'BALTICS',\n",
       " 'C.W. OF IND. STATES',\n",
       " 'EASTERN EUROPE',\n",
       " 'LATIN AMER. & CARIB',\n",
       " 'NEAR EAST',\n",
       " 'NORTHERN AFRICA',\n",
       " 'NORTHERN AMERICA',\n",
       " 'OCEANIA',\n",
       " 'SUB-SAHARAN AFRICA',\n",
       " 'WESTERN EUROPE']"
      ]
     },
     "execution_count": 60,
     "metadata": {},
     "output_type": "execute_result"
    }
   ],
   "source": [
    "def q1():\n",
    "    # Retorne aqui o resultado da questão 1.\n",
    "    return sorted(countries['Region'].unique())\n",
    "q1()"
   ]
  },
  {
   "cell_type": "markdown",
   "metadata": {},
   "source": [
    "## Questão 2\n",
    "\n",
    "Discretizando a variável `Pop_density` em 10 intervalos com `KBinsDiscretizer`, seguindo o encode `ordinal` e estratégia `quantile`, quantos países se encontram acima do 90º percentil? Responda como um único escalar inteiro."
   ]
  },
  {
   "cell_type": "code",
   "execution_count": 61,
   "metadata": {},
   "outputs": [],
   "source": [
    "def q2():\n",
    "    countries.Pop_density.unique()\n",
    "    discretizer = KBinsDiscretizer(n_bins=10, encode=\"ordinal\", strategy=\"quantile\")\n",
    "\n",
    "    discretizer.fit(countries[[\"Pop_density\"]])\n",
    "\n",
    "    score_bins = discretizer.transform(countries[[\"Pop_density\"]])\n",
    "\n",
    "    p = np.percentile(score_bins, 90, axis =1, keepdims=True)\n",
    "    return int(np.sum(p >=9))"
   ]
  },
  {
   "cell_type": "markdown",
   "metadata": {},
   "source": [
    "# Questão 3\n",
    "\n",
    "Se codificarmos as variáveis `Region` e `Climate` usando _one-hot encoding_, quantos novos atributos seriam criados? Responda como um único escalar."
   ]
  },
  {
   "cell_type": "code",
   "execution_count": 62,
   "metadata": {},
   "outputs": [],
   "source": [
    "def q3():\n",
    "    #countries['Climate'] = countries['Climate'].str.strip()\n",
    "    #one_hot_encoder = OneHotEncoder(sparse=False, dtype=np.int)\n",
    "    #aux_countries = countries.dropna(subset=['Climate'])\n",
    "    #atributos_region = one_hot_encoder.fit(aux_countries[[\"Region\"]])\n",
    "    #atributos_climate = one_hot_encoder.fit(aux_countries[[\"Climate\"]])\n",
    "    #return int(atributos_region.shape[1] +  atributos_climate.shape[1])\n",
    "    dum_df = pd.get_dummies(countries, columns=[\"Climate\"], prefix=[\"Cli\"])\n",
    "    dum_df = pd.get_dummies(countries, columns=[\"Region\"], prefix=[\"Reg\"])\n",
    "    #Dos outros dois modos que tentei o resultado foi 17 devido ao valor NA na Climate\n",
    "    #será que devo substituir o NA por outro valor? 0 por exemplo? \n",
    "    return len(countries[\"Region\"].unique()) + len(countries[\"Climate\"].unique())   "
   ]
  },
  {
   "cell_type": "markdown",
   "metadata": {},
   "source": [
    "## Questão 4\n",
    "\n",
    "Aplique o seguinte _pipeline_:\n",
    "\n",
    "1. Preencha as variáveis do tipo `int64` e `float64` com suas respectivas medianas.\n",
    "2. Padronize essas variáveis.\n",
    "\n",
    "Após aplicado o _pipeline_ descrito acima aos dados (somente nas variáveis dos tipos especificados), aplique o mesmo _pipeline_ (ou `ColumnTransformer`) ao dado abaixo. Qual o valor da variável `Arable` após o _pipeline_? Responda como um único float arredondado para três casas decimais."
   ]
  },
  {
   "cell_type": "code",
   "execution_count": 63,
   "metadata": {},
   "outputs": [],
   "source": [
    "test_country = [\n",
    "    'Test Country', 'NEAR EAST', -0.19032480757326514,\n",
    "    -0.3232636124824411, -0.04421734470810142, -0.27528113360605316,\n",
    "    0.13255850810281325, -0.8054845935643491, 1.0119784924248225,\n",
    "    0.6189182532646624, 1.0074863283776458, 0.20239896852403538,\n",
    "    -0.043678728558593366, -0.13929748680369286, 1.3163604645710438,\n",
    "    -0.3699637766938669, -0.6149300604558857, -0.854369594993175,\n",
    "    0.263445277972641, 0.5712416961268142\n",
    "]"
   ]
  },
  {
   "cell_type": "code",
   "execution_count": 64,
   "metadata": {},
   "outputs": [],
   "source": [
    "def q4():\n",
    "    data_missing = countries.copy()\n",
    "    num_pipeline = Pipeline(steps=[\n",
    "        (\"imputer\", SimpleImputer(strategy=\"median\")),\n",
    "        (\"minmax_scaler\", StandardScaler())\n",
    "    ])\n",
    "    columns = np.concatenate((data_missing.columns[data_missing.dtypes==\"int64\"], data_missing.columns[data_missing.dtypes==\"float64\"]), \n",
    "                             axis=0) \n",
    "    pipeline_transformation = num_pipeline.fit(data_missing[columns])\n",
    "    return float(pipeline_transformation.transform([test_country[2:]])[0][data_missing.columns.get_loc(\"Arable\") - 2].round(3))"
   ]
  },
  {
   "cell_type": "markdown",
   "metadata": {},
   "source": [
    "## Questão 5\n",
    "\n",
    "Descubra o número de _outliers_ da variável `Net_migration` segundo o método do _boxplot_, ou seja, usando a lógica:\n",
    "\n",
    "$$x \\notin [Q1 - 1.5 \\times \\text{IQR}, Q3 + 1.5 \\times \\text{IQR}] \\Rightarrow x \\text{ é outlier}$$\n",
    "\n",
    "que se encontram no grupo inferior e no grupo superior.\n",
    "\n",
    "Você deveria remover da análise as observações consideradas _outliers_ segundo esse método? Responda como uma tupla de três elementos `(outliers_abaixo, outliers_acima, removeria?)` ((int, int, bool))."
   ]
  },
  {
   "cell_type": "code",
   "execution_count": 65,
   "metadata": {},
   "outputs": [
    {
     "data": {
      "text/plain": [
       "array([ 2.306e+01, -4.930e+00, -3.900e-01, -2.071e+01,  6.600e+00,\n",
       "        0.000e+00,  1.076e+01, -6.150e+00,  6.100e-01, -6.470e+00,\n",
       "        3.980e+00,  2.000e+00, -4.900e+00, -2.200e+00,  1.050e+00,\n",
       "       -7.100e-01, -3.100e-01,  2.540e+00,  1.230e+00,  2.490e+00,\n",
       "       -1.320e+00,  3.100e-01, -3.000e-02,  1.001e+01,  3.590e+00,\n",
       "       -4.580e+00, -1.800e+00, -6.000e-02,  5.960e+00, -1.207e+01,\n",
       "        1.875e+01, -1.100e-01, -4.000e-01, -1.700e-01,        nan,\n",
       "        5.100e-01, -7.000e-02,  1.580e+00, -1.580e+00,  4.300e-01,\n",
       "        9.700e-01,  2.480e+00, -1.387e+01, -3.220e+00, -8.580e+00,\n",
       "       -2.200e-01, -3.740e+00, -3.160e+00,  1.410e+00, -3.140e+00,\n",
       "        9.500e-01,  6.600e-01,  6.270e+00,  2.940e+00,  1.570e+00,\n",
       "        1.600e+00, -4.700e+00,  2.180e+00, -6.400e-01,  2.350e+00,\n",
       "       -8.370e+00, -1.392e+01, -1.500e-01, -1.670e+00,  3.840e+00,\n",
       "       -3.060e+00, -1.570e+00, -2.070e+00, -3.400e+00, -1.990e+00,\n",
       "        5.240e+00,  8.600e-01,  2.380e+00, -8.400e-01,  4.990e+00,\n",
       "        5.360e+00,  6.800e-01,  2.070e+00, -4.920e+00,  2.760e+00,\n",
       "        6.590e+00, -3.350e+00, -1.000e-01,  1.418e+01, -2.450e+00,\n",
       "       -2.230e+00, -7.400e-01,  4.850e+00,  8.970e+00,  4.860e+00,\n",
       "       -1.450e+00, -3.300e-01, -6.040e+00, -5.000e-02, -9.000e-01,\n",
       "        6.780e+00, -4.870e+00, -2.099e+01, -2.600e-01,  7.750e+00,\n",
       "       -9.800e-01,  2.910e+00, -4.100e-01,  4.050e+00, -1.220e+00,\n",
       "       -6.700e-01,  2.600e-01,  9.610e+00,  1.740e+00,  2.800e-01,\n",
       "       -2.770e+00,  2.850e+00, -9.100e-01, -8.000e-02, -1.050e+00,\n",
       "       -1.500e+00, -4.900e-01,  3.570e+00, -1.460e+00,  1.629e+01,\n",
       "       -1.300e-01,  1.020e+00, -7.110e+00, -2.670e+00, -4.860e+00,\n",
       "       -7.640e+00, -1.170e+01,  1.098e+01, -2.720e+00, -2.710e+00,\n",
       "        2.000e-01, -1.330e+00, -5.690e+00,  1.153e+01,  3.000e-01,\n",
       "        1.120e+00,  5.370e+00, -2.900e-01,  9.900e-01, -1.310e+00,\n",
       "       -2.000e-02, -8.810e+00,  1.670e+00, -2.860e+00, -2.060e+00,\n",
       "       -1.083e+01, -5.700e-01, -8.600e-01,  1.168e+01,  1.030e+00,\n",
       "        2.190e+00,  3.410e+00, -3.200e-01, -1.720e+00, -4.000e-02,\n",
       "       -4.500e-01, -8.940e+00,  2.980e+00])"
      ]
     },
     "execution_count": 65,
     "metadata": {},
     "output_type": "execute_result"
    }
   ],
   "source": [
    "countries.Net_migration.unique()"
   ]
  },
  {
   "cell_type": "code",
   "execution_count": 66,
   "metadata": {},
   "outputs": [
    {
     "data": {
      "image/png": "[encoded data removed]",
      "text/plain": [
       "<Figure size 432x288 with 1 Axes>"
      ]
     },
     "metadata": {
      "needs_background": "light"
     },
     "output_type": "display_data"
    }
   ],
   "source": [
    "Net_migration_outlier = countries.Net_migration.copy()\n",
    "sns.boxplot(Net_migration_outlier, orient=\"vertical\");"
   ]
  },
  {
   "cell_type": "code",
   "execution_count": 67,
   "metadata": {},
   "outputs": [
    {
     "data": {
      "image/png": "[encoded data removed]",
      "text/plain": [
       "<Figure size 432x288 with 1 Axes>"
      ]
     },
     "metadata": {
      "needs_background": "light"
     },
     "output_type": "display_data"
    }
   ],
   "source": [
    "sns.distplot(Net_migration_outlier.dropna());"
   ]
  },
  {
   "cell_type": "code",
   "execution_count": 68,
   "metadata": {},
   "outputs": [],
   "source": [
    "def q5():\n",
    "    q1 = Net_migration_outlier.quantile(0.25)\n",
    "    q3 = Net_migration_outlier.quantile(0.75)\n",
    "    iqr = q3 - q1\n",
    "\n",
    "    non_outlier_interval_iqr = [q1 - 1.5 * iqr, q3 + 1.5 * iqr]\n",
    "    return len(Net_migration_outlier[(Net_migration_outlier < non_outlier_interval_iqr[0])]), len(Net_migration_outlier[(Net_migration_outlier > non_outlier_interval_iqr[1])]), False"
   ]
  },
  {
   "cell_type": "markdown",
   "metadata": {},
   "source": [
    "## Questão 6\n",
    "Para as questões 6 e 7 utilize a biblioteca `fetch_20newsgroups` de datasets de test do `sklearn`\n",
    "\n",
    "Considere carregar as seguintes categorias e o dataset `newsgroups`:\n",
    "\n",
    "```\n",
    "categories = ['sci.electronics', 'comp.graphics', 'rec.motorcycles']\n",
    "newsgroup = fetch_20newsgroups(subset=\"train\", categories=categories, shuffle=True, random_state=42)\n",
    "```\n",
    "\n",
    "\n",
    "Aplique `CountVectorizer` ao _data set_ `newsgroups` e descubra o número de vezes que a palavra _phone_ aparece no corpus. Responda como um único escalar."
   ]
  },
  {
   "cell_type": "code",
   "execution_count": 69,
   "metadata": {},
   "outputs": [],
   "source": [
    "categories = ['sci.electronics', 'comp.graphics', 'rec.motorcycles']\n",
    "newsgroups = fetch_20newsgroups(subset=\"train\", categories=categories, shuffle=True, random_state=42)\n",
    "count_vectorizer = CountVectorizer()\n",
    "newsgroups_counts = count_vectorizer.fit_transform(newsgroups.data)\n",
    "words_idx = sorted([count_vectorizer.vocabulary_.get(f\"{word.lower()}\") for word in\n",
    "[u\"phone\"]])"
   ]
  },
  {
   "cell_type": "code",
   "execution_count": 70,
   "metadata": {},
   "outputs": [
    {
     "data": {
      "text/plain": [
       "213"
      ]
     },
     "execution_count": 70,
     "metadata": {},
     "output_type": "execute_result"
    }
   ],
   "source": [
    "def q6():\n",
    "    newsgroups_counts = count_vectorizer.fit_transform(newsgroups.data)\n",
    "    return int(sum(newsgroups_counts[:-1, words_idx].toarray())[0])\n",
    "q6()"
   ]
  },
  {
   "cell_type": "markdown",
   "metadata": {},
   "source": [
    "## Questão 7\n",
    "\n",
    "Aplique `TfidfVectorizer` ao _data set_ `newsgroups` e descubra o TF-IDF da palavra _phone_. Responda como um único escalar arredondado para três casas decimais."
   ]
  },
  {
   "cell_type": "code",
   "execution_count": 71,
   "metadata": {},
   "outputs": [
    {
     "data": {
      "text/plain": [
       "8.888"
      ]
     },
     "execution_count": 71,
     "metadata": {},
     "output_type": "execute_result"
    }
   ],
   "source": [
    "tfidf_vectorizer = TfidfVectorizer()\n",
    "tfidf_vectorizer.fit(newsgroups.data)\n",
    "newsgroups_tfidf_vectorized = tfidf_vectorizer.transform(newsgroups.data)\n",
    "sum(newsgroups_tfidf_vectorized[:-1, words_idx].toarray())[0].round(3)"
   ]
  },
  {
   "cell_type": "code",
   "execution_count": 72,
   "metadata": {},
   "outputs": [
    {
     "data": {
      "text/plain": [
       "8.888"
      ]
     },
     "execution_count": 72,
     "metadata": {},
     "output_type": "execute_result"
    }
   ],
   "source": [
    "def q7():\n",
    "    tfidf_vectorizer = TfidfVectorizer()\n",
    "    tfidf_vectorizer.fit(newsgroups.data)\n",
    "    newsgroups_tfidf_vectorized = tfidf_vectorizer.transform(newsgroups.data)\n",
    "    return float(sum(newsgroups_tfidf_vectorized[:-1, words_idx].toarray())[0].round(3))\n",
    "q7()"
   ]
  }
 ],
 "metadata": {
  "kernelspec": {
   "display_name": "Python 3",
   "language": "python",
   "name": "python3"
  },
  "language_info": {
   "codemirror_mode": {
    "name": "ipython",
    "version": 3
   },
   "file_extension": ".py",
   "mimetype": "text/x-python",
   "name": "python",
   "nbconvert_exporter": "python",
   "pygments_lexer": "ipython3",
   "version": "3.7.7"
  }
 },
 "nbformat": 4,
 "nbformat_minor": 2
}
